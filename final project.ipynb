{
 "cells": [
  {
   "cell_type": "markdown",
   "id": "67378518",
   "metadata": {},
   "source": [
    " # Data Preprocessing"
   ]
  },
  {
   "cell_type": "code",
   "execution_count": null,
   "id": "0dec52d1",
   "metadata": {},
   "outputs": [],
   "source": [
    "import requests\n",
    "import json\n",
    "import pandas as pd\n",
    "import geopandas as gpd\n",
    "import os\n",
    "from shapely.geometry import Point\n",
    "from geoalchemy2 import Geometry, WKTElement\n",
    "import psycopg2\n",
    "from sqlalchemy import create_engine, MetaData, Table, Column, Integer, String, Date, Float, ForeignKey\n",
    "from sqlalchemy.ext.declarative import declarative_base\n",
    "from sqlalchemy.schema import CreateTable\n",
    "from sqlalchemy.orm import relationship\n",
    "from geoalchemy2 import Geometry\n",
    "from sqlalchemy.ext.declarative import declarative_base\n",
    "import matplotlib.pyplot as plt\n",
    "import seaborn as sns"
   ]
  },
  {
   "cell_type": "code",
   "execution_count": null,
   "id": "8c495a40",
   "metadata": {},
   "outputs": [],
   "source": [
    "app_token = '2bSOlTJkWZ0e43SGvaNbY1sHz'\n",
    "API_endpoint_list = [\n",
    "    \"https://data.cityofnewyork.us/resource/5rq2-4hqu.json?$limit=100000000\",  \n",
    "    \"https://data.cityofnewyork.us/resource/erm2-nwe9.json?$limit=100000000\"\n",
    "]\n",
    "\n",
    "\n",
    "# Create a 'data' directory if it doesn't exist\n",
    "data_directory = 'data'\n",
    "os.makedirs(data_directory, exist_ok=True)\n",
    "\n",
    "# Corresponding filenames for each endpoint, with path to 'data' directory\n",
    "file_names = [os.path.join(data_directory, \"2015StreetTreesCensus_TREES.csv\"), \n",
    "              os.path.join(data_directory, \"311_Service_Requests.csv\")]\n",
    "\n",
    "headers = {\n",
    "    'X-App-Token': app_token\n",
    "}\n",
    "\n",
    "# Processing each API endpoint separately and saving as CSV in the 'data' folder\n",
    "for i, endpoint in enumerate(API_endpoint_list):\n",
    "    response = requests.get(endpoint, headers=headers)\n",
    "    if response.status_code == 200:\n",
    "        data = response.json()\n",
    "        df = pd.DataFrame(data)\n",
    "        df.to_csv(file_names[i], index=False)\n",
    "        print(f\"Data from {endpoint} written to {file_names[i]} in CSV format\")\n",
    "    else:\n",
    "        print(f\"Error: {response.status_code} from {endpoint}\")\n"
   ]
  },
  {
   "cell_type": "code",
   "execution_count": null,
   "id": "c2241d42",
   "metadata": {},
   "outputs": [],
   "source": [
    "service_requests_path = './data/311_Service_Requests.csv'\n",
    "trees_census_path = './data/2015StreetTreesCensus_TREES.csv'\n",
    "rent_data_path = './data/zillow_rent_data.csv'\n",
    "shapefile_path = './data/nyc_zipcodes.shp'"
   ]
  },
  {
   "cell_type": "code",
   "execution_count": null,
   "id": "e06a7432",
   "metadata": {},
   "outputs": [],
   "source": [
    "# Cleaning Shapefiles of NYC’s Zip Codes\n",
    "\n",
    "# Load the shapefile with geopandas\n",
    "gdf = gpd.read_file('./data/nyc_zipcodes.shp')\n",
    "# Assuming 'ZIPCODE' and 'geometry' are the necessary columns\n",
    "gdf = gdf[['ZIPCODE', 'geometry']]\n",
    "# Ensure the ZIPCODE column is a string for consistency\n",
    "gdf['ZIPCODE'] = gdf['ZIPCODE'].astype(str).str.zfill(5)\n",
    "# Set the CRS to a common SRID if needed (e.g., SRID 4326 for WGS84)\n",
    "gdf = gdf.to_crs(epsg=4326)\n",
    "# Save the cleaned data back to a shapefile\n",
    "gdf.to_file('./data/cleaned_nyc_zipcodes.shp')\n",
    "\n"
   ]
  },
  {
   "cell_type": "code",
   "execution_count": null,
   "id": "3afcb2db",
   "metadata": {},
   "outputs": [],
   "source": [
    "#Cleaning Historical Monthly Average Rents by Zip Code from Zillow\n",
    "\n",
    "# Load the Zillow Rent Data\n",
    "rent_data_df = pd.read_csv(rent_data_path)\n",
    "# Selecting the desired columns including region, city, countyName, and the latest rent data\n",
    "# Assuming the last column is the latest rent data (you might want to verify this)\n",
    "latest_rent_column = rent_data_df.columns[-1]\n",
    "rent_data_df = rent_data_df[['RegionName', 'City', 'CountyName', '2023-08-31', latest_rent_column]]\n",
    "# Renaming columns for clarity\n",
    "rent_data_df.rename(columns={'RegionName': 'zipcode', 'City': 'city', 'CountyName': 'county_name', '2023-08-31': 'Auguest2023_rent_amount',latest_rent_column: 'rent_amount'}, inplace=True)\n",
    "# Ensuring the ZIP code is a string and formatted correctly\n",
    "rent_data_df['zipcode'] = rent_data_df['zipcode'].astype(str).str.zfill(5)\n",
    "# Saving the cleaned data\n",
    "rent_data_df.to_csv('./data/cleaned_zillow_rent_data.csv', index=False)\n"
   ]
  },
  {
   "cell_type": "code",
   "execution_count": null,
   "id": "bb28bad0",
   "metadata": {},
   "outputs": [],
   "source": [
    "#Cleaning Historical Data from NYC Open Data on 311 Complaints\n",
    "service_requests_df = pd.read_csv(service_requests_path)\n",
    "service_requests_df = service_requests_df[['unique_key', 'created_date', 'complaint_type', 'incident_zip']]\n",
    "service_requests_df['created_date'] = pd.to_datetime(service_requests_df['created_date'])\n",
    "service_requests_df['incident_zip'] = service_requests_df['incident_zip'].astype(str).str.split('.').str[0].str.zfill(5)\n",
    "service_requests_df.dropna(subset=['incident_zip'], inplace=True)\n",
    "service_requests_df.to_csv('./data/cleaned_311_Service_Requests.csv', index=False)"
   ]
  },
  {
   "cell_type": "code",
   "execution_count": null,
   "id": "764e322e",
   "metadata": {},
   "outputs": [],
   "source": [
    "#Cleaning the 2015 Tree Census\n",
    "trees_census_df = pd.read_csv(trees_census_path)\n",
    "trees_census_df = trees_census_df[['tree_id', 'spc_common', 'health', 'zipcode', 'status', 'latitude','longitude']]\n",
    "\n",
    "trees_census_df['zipcode'] = trees_census_df['zipcode'].astype(str).str.zfill(5)\n",
    "trees_census_df['health'].fillna('Unknown', inplace=True)\n",
    "trees_census_df.to_csv('./data/cleaned_2015StreetTreesCensus_TREES.csv', index=False)"
   ]
  },
  {
   "cell_type": "code",
   "execution_count": null,
   "id": "6722a8f7",
   "metadata": {},
   "outputs": [],
   "source": [
    "# Create a GeoDataFrame with a 'geometry' column containing Point objects\n",
    "geometry = [Point(lon, lat) for lon, lat in zip(trees_census_df['longitude'], trees_census_df['latitude'])]\n",
    "trees_census_gdf = gpd.GeoDataFrame(trees_census_df, geometry=geometry, crs=\"EPSG:4326\")\n",
    "\n",
    "# Display the GeoDataFrame\n",
    "print(trees_census_gdf)\n",
    "\n",
    "# trees_census_gdf = trees_census_gdf.drop(columns=['longitude','latitude'])"
   ]
  },
  {
   "cell_type": "markdown",
   "id": "5ae006fe",
   "metadata": {},
   "source": [
    "# Storing Data"
   ]
  },
  {
   "cell_type": "code",
   "execution_count": null,
   "id": "7a79731b",
   "metadata": {},
   "outputs": [],
   "source": [
    "\n",
    "# Change dataframe column name to match with the schema\n",
    "trees_census_gdf.rename(columns={'tree_id': 'id'}, inplace=True)\n",
    "trees_census_gdf.rename(columns={'spc_common': 'specie'}, inplace=True)\n",
    "trees_census_gdf.rename(columns={'zipcode': 'zip_code_id'}, inplace=True)\n",
    "trees_census_gdf['geometry'] = trees_census_gdf['geometry'].apply(lambda geom: WKTElement(geom.wkt, srid=4326))\n",
    "trees_census_gdf.head()"
   ]
  },
  {
   "cell_type": "code",
   "execution_count": null,
   "id": "0456808b",
   "metadata": {},
   "outputs": [],
   "source": [
    "# Change dataframe column name to match with the schema\n",
    "service_requests_df.rename(columns={'unique_key': 'id'}, inplace=True)\n",
    "service_requests_df.rename(columns={'created_date': 'date_column'}, inplace=True)\n",
    "service_requests_df.rename(columns={'incident_zip': 'zip_code_id'}, inplace=True)\n",
    "service_requests_df = service_requests_df[service_requests_df['zip_code_id'] != '00nan']\n",
    "service_requests_df.tail()"
   ]
  },
  {
   "cell_type": "code",
   "execution_count": null,
   "id": "0c457e15",
   "metadata": {},
   "outputs": [],
   "source": [
    "# Change dataframe column name to match with the schema\n",
    "rent_data_df.rename(columns={'Auguest2023_rent_amount': 'rent_amount_aug'}, inplace=True)\n",
    "rent_data_df.rename(columns={'county_name': 'county'}, inplace=True)\n",
    "rent_data_df.rename(columns={'zipcode': 'zip_code_id'}, inplace=True)\n",
    "rent_data_df['id'] = range(1, len(rent_data_df) + 1)\n",
    "rent_data_df = rent_data_df[['id','city', 'county', 'rent_amount_aug','rent_amount','zip_code_id']]\n",
    "rent_data_df.head()"
   ]
  },
  {
   "cell_type": "code",
   "execution_count": null,
   "id": "787a1196",
   "metadata": {},
   "outputs": [],
   "source": [
    "zipcode_df = pd.DataFrame(rent_data_df[\"zip_code_id\"])\n",
    "\n",
    "\n",
    "# Array of values to be added\n",
    "new_values = trees_census_gdf['zip_code_id']\n",
    "new_values_2 = rent_data_df['zip_code_id']\n",
    "new_values_3 = service_requests_df['zip_code_id']\n"
   ]
  },
  {
   "cell_type": "code",
   "execution_count": null,
   "id": "07e3ce94",
   "metadata": {},
   "outputs": [],
   "source": [
    "# Convert the original column to a set to identify unique values\n",
    "existing_values = set(zipcode_df['zip_code_id'])\n",
    "\n",
    "# Filter new values to only include those not present in the original column\n",
    "unique_new_values = [value for value in new_values if value not in existing_values]\n",
    "\n",
    "# Add the unique values to the original column\n",
    "zipcode_df = pd.concat([zipcode_df, pd.DataFrame({'zip_code_id': unique_new_values})], ignore_index=True)"
   ]
  },
  {
   "cell_type": "code",
   "execution_count": null,
   "id": "0a6ee597",
   "metadata": {},
   "outputs": [],
   "source": [
    "# Convert the original column to a set to identify unique values\n",
    "existing_values = set(zipcode_df['zip_code_id'])\n",
    "\n",
    "# Filter new values to only include those not present in the original column\n",
    "unique_new_values = [value for value in new_values_2 if value not in existing_values]\n",
    "\n",
    "# Add the unique values to the original column\n",
    "zipcode_df = pd.concat([zipcode_df, pd.DataFrame({'zip_code_id': unique_new_values})], ignore_index=True)"
   ]
  },
  {
   "cell_type": "code",
   "execution_count": null,
   "id": "7a4beddb",
   "metadata": {},
   "outputs": [],
   "source": [
    "# Convert the original column to a set to identify unique values\n",
    "existing_values = set(zipcode_df['zip_code_id'])\n",
    "\n",
    "# Filter new values to only include those not present in the original column\n",
    "unique_new_values = [value for value in new_values_3 if value not in existing_values]\n",
    "\n",
    "# Add the unique values to the original column\n",
    "zipcode_df = pd.concat([zipcode_df, pd.DataFrame({'zip_code_id': unique_new_values})], ignore_index=True)"
   ]
  },
  {
   "cell_type": "code",
   "execution_count": null,
   "id": "cd522cc7",
   "metadata": {},
   "outputs": [],
   "source": [
    "zipcode_df.rename(columns={'zip_code_id': 'RegionID'}, inplace=True)"
   ]
  },
  {
   "cell_type": "code",
   "execution_count": null,
   "id": "ec9a900d",
   "metadata": {},
   "outputs": [],
   "source": [
    "zipcode_df = zipcode_df[zipcode_df['RegionID'] != '00nan']\n",
    "zipcode_df = pd.DataFrame(zipcode_df['RegionID'].unique())\n",
    "zipcode_df.columns = [\"id\"]\n",
    "# zipcode_df.columns = [\"ZIPCODE\"]"
   ]
  },
  {
   "cell_type": "code",
   "execution_count": null,
   "id": "4808310a",
   "metadata": {},
   "outputs": [],
   "source": [
    "\n",
    "def drop_table(connection_params, table_name):\n",
    "    try:\n",
    "        # Establish a connection to the PostgreSQL database\n",
    "        conn = psycopg2.connect(**connection_params)\n",
    "        conn.autocommit = True  # Set autocommit to True for DDL statements\n",
    "\n",
    "        # Create a cursor\n",
    "        cursor = conn.cursor()\n",
    "\n",
    "        # Drop the table\n",
    "        query = f\"DROP TABLE IF EXISTS {table_name} CASCADE;\"\n",
    "        cursor.execute(query)\n",
    "\n",
    "        print(f\"Table {table_name} and its columns dropped successfully.\")\n",
    "\n",
    "    except psycopg2.Error as e:\n",
    "        print(f\"Error: {e}\")\n",
    "    finally:\n",
    "        # Close the cursor and connection\n",
    "        if cursor:\n",
    "            cursor.close()\n",
    "        if conn:\n",
    "            conn.close()\n",
    "\n",
    "# Specify the table name to drop\n",
    "table_to_drop = 'complaints'\n",
    "table_to_drop_2 = 'trees'\n",
    "table_to_drop_3 = 'zip_codes'\n",
    "table_to_drop_4 = 'rents'\n",
    "\n",
    "# Call the function to drop the table\n",
    "drop_table(db_params, table_to_drop)\n",
    "drop_table(db_params, table_to_drop_2)\n",
    "drop_table(db_params, table_to_drop_3)\n",
    "drop_table(db_params, table_to_drop_4)\n"
   ]
  },
  {
   "cell_type": "code",
   "execution_count": null,
   "id": "0f25d8a6",
   "metadata": {},
   "outputs": [],
   "source": [
    "db_params = {\n",
    "    'host': 'localhost',\n",
    "    'database': 'ritajkx',\n",
    "    'user': 'ritajkx', \n",
    "    'password': 'none',\n",
    "    'port': '5432', \n",
    "}\n",
    "\n",
    "# Construct the connection string\n",
    "conn_string = \"postgresql://{user}:{password}@{host}:{port}/{database}\".format(**db_params)\n",
    "\n",
    "# Create an SQLAlchemy engine\n",
    "engine = create_engine(conn_string)\n",
    "\n",
    "Base = declarative_base()\n",
    "\n",
    "\n",
    "class ZipCode(Base):\n",
    "    __tablename__ = 'zip_codes'\n",
    "    id = Column(Integer, primary_key=True)\n",
    "#     geometry = Column(Geometry(geometry_type='POLYGON', srid=4326))\n",
    "    # Relationships\n",
    "    complaints = relationship(\"Complaint\", backref=\"zip_code\")\n",
    "    trees = relationship(\"Tree\", backref=\"zip_code\")\n",
    "    rents = relationship(\"Rent\", backref=\"zip_code\")\n",
    "\n",
    "class Complaint(Base):\n",
    "    __tablename__ = 'complaints'\n",
    "    id = Column(Integer, primary_key=True)\n",
    "    date_column = Column(Date)\n",
    "    complaint_type = Column(String)\n",
    "    zip_code_id = Column(Integer, ForeignKey('zip_codes.id'))\n",
    "\n",
    "class Tree(Base):\n",
    "    __tablename__ = 'trees'\n",
    "    id = Column(Integer, primary_key=True)\n",
    "    specie = Column(String)\n",
    "    health = Column(String)\n",
    "    status = Column(String)\n",
    "    zip_code_id = Column(Integer, ForeignKey('zip_codes.id'))\n",
    "    longitude = Column(Float)\n",
    "    latitude = Column(Float)\n",
    "    geometry = Column(Geometry(geometry_type='POINT', srid=4326))\n",
    "\n",
    "class Rent(Base):\n",
    "    __tablename__ = 'rents'\n",
    "    id = Column(Integer, primary_key=True)\n",
    "    city = Column(String)\n",
    "    county = Column(String)\n",
    "    rent_amount_aug = Column(Float)\n",
    "    rent_amount = Column(Float)\n",
    "    zip_code_id = Column(Integer, ForeignKey('zip_codes.id'))\n",
    "\n",
    "    \n",
    "\n",
    "# Generate schema.sql\n",
    "with open('schema.sql', 'w') as f:\n",
    "    for table in [ZipCode.__table__, Complaint.__table__, Tree.__table__, Rent.__table__]:\n",
    "        f.write(str(CreateTable(table)))\n",
    "        f.write(\";\\n\")\n",
    "\n",
    "# Create the tables in the database\n",
    "Base.metadata.create_all(engine)"
   ]
  },
  {
   "cell_type": "code",
   "execution_count": null,
   "id": "febb0a60",
   "metadata": {},
   "outputs": [],
   "source": [
    "# Define the table name\n",
    "table_name_1 = 'zip_codes'\n",
    "table_name_2 = 'trees'\n",
    "table_name_3 = 'rents'\n",
    "table_name_4 = 'complaints'\n",
    "\n",
    "# Use the to_sql method to write the DataFrame to the SQL database\n",
    "zipcode_df.to_sql(table_name_1, con=engine, index=False, if_exists='append')\n",
    "# zipcode_gdf.to_sql(table_name_1, con=engine, index=False, if_exists='append', dtype={'geometry': Geometry('POLYGON', srid=4326)})"
   ]
  },
  {
   "cell_type": "code",
   "execution_count": null,
   "id": "76053b9e",
   "metadata": {},
   "outputs": [],
   "source": [
    "rent_data_df.to_sql(table_name_3, con=engine, index=False, if_exists='append') "
   ]
  },
  {
   "cell_type": "code",
   "execution_count": null,
   "id": "9f4e705c",
   "metadata": {},
   "outputs": [],
   "source": [
    "service_requests_df.to_sql(table_name_4, con=engine, index=False, if_exists='append')  "
   ]
  },
  {
   "cell_type": "code",
   "execution_count": null,
   "id": "70d0fbaf",
   "metadata": {},
   "outputs": [],
   "source": [
    "trees_census_gdf.to_sql(table_name_2, con=engine, index=False, if_exists='append', dtype={'geometry': Geometry('POINT', srid=4326)})  "
   ]
  },
  {
   "cell_type": "code",
   "execution_count": null,
   "id": "bd02fac1",
   "metadata": {},
   "outputs": [],
   "source": [
    "gpd.read_postgis('trees', conn_string, geom_col='geometry')  "
   ]
  },
  {
   "cell_type": "code",
   "execution_count": null,
   "id": "09242d24",
   "metadata": {},
   "outputs": [],
   "source": [
    "pd.read_sql_table('zip_codes', conn_string) "
   ]
  },
  {
   "cell_type": "code",
   "execution_count": null,
   "id": "96064e50",
   "metadata": {},
   "outputs": [],
   "source": [
    "pd.read_sql_table('rents', conn_string) "
   ]
  },
  {
   "cell_type": "code",
   "execution_count": null,
   "id": "606b8291",
   "metadata": {},
   "outputs": [],
   "source": [
    "pd.read_sql_table('complaints', conn_string) "
   ]
  },
  {
   "cell_type": "markdown",
   "id": "7df0f105",
   "metadata": {},
   "source": [
    "# Understanding Data"
   ]
  },
  {
   "cell_type": "markdown",
   "id": "94b8f1eb",
   "metadata": {},
   "source": [
    "Query 1*: Which area might be more calm to live in?\n",
    "\n",
    "Between October 1st, 2022 and September 30th, 2023 (inclusive), find the number of 311 complaints per zip code. "
   ]
  },
  {
   "cell_type": "code",
   "execution_count": null,
   "id": "9f94e3d7",
   "metadata": {},
   "outputs": [],
   "source": [
    "def get_complaints_count_per_zip(engine):\n",
    "    query = \"\"\"\n",
    "    SELECT zip_code_id, COUNT(*) AS complaint_count\n",
    "    FROM complaints\n",
    "    WHERE date_column BETWEEN '2022-10-01' AND '2023-09-30'\n",
    "    \n",
    "    GROUP BY zip_code_id\n",
    "    ORDER BY complaint_count DESC;\n",
    "    \"\"\"\n",
    "    return pd.read_sql_query(query, engine)\n",
    "\n",
    "complaints_per_zip_df = get_complaints_count_per_zip(engine)\n",
    "\n",
    "print(complaints_per_zip_df)"
   ]
  },
  {
   "cell_type": "markdown",
   "id": "58709cfb",
   "metadata": {},
   "source": [
    "Query 2: Where has the most greenery?\n",
    "\n",
    "Using just the trees table, which 10 zip codes have the most trees?\n",
    "\n",
    "The query result should have two columns, 10 rows. The rows should be sorted by the total number of trees, descending.\n"
   ]
  },
  {
   "cell_type": "code",
   "execution_count": null,
   "id": "3201e49a",
   "metadata": {},
   "outputs": [],
   "source": [
    "def get_top_zipcodes_with_most_trees(engine):\n",
    "    query = \"\"\"\n",
    "    SELECT zip_code_id, COUNT(*) AS tree_count\n",
    "    FROM trees\n",
    "    GROUP BY zip_code_id\n",
    "    ORDER BY tree_count DESC\n",
    "    LIMIT 10;\n",
    "    \"\"\"\n",
    "    return pd.read_sql_query(query, engine)\n",
    "\n",
    "top_zipcodes_with_most_trees_df = get_top_zipcodes_with_most_trees(engine)\n",
    "\n",
    "print(top_zipcodes_with_most_trees_df)"
   ]
  },
  {
   "cell_type": "markdown",
   "id": "14f08129",
   "metadata": {},
   "source": [
    "Query 3: Can I afford a place in the areas with the most trees?\n",
    "\n",
    "Of the 10 zip codes with the most trees, for the month of August 2023,what is the average rent by zip code?"
   ]
  },
  {
   "cell_type": "code",
   "execution_count": null,
   "id": "b74343cb",
   "metadata": {},
   "outputs": [],
   "source": [
    "def get_average_rent_with_most_trees(engine):\n",
    "    query = \"\"\"\n",
    "        WITH TopZipCodes AS (\n",
    "            SELECT zip_code_id, COUNT(*) AS tree_count\n",
    "            FROM trees\n",
    "            GROUP BY zip_code_id\n",
    "            ORDER BY tree_count DESC\n",
    "            LIMIT 10\n",
    "        )\n",
    "        SELECT TopZipCodes.zip_code_id, \n",
    "               TO_CHAR(rents.rent_amount_aug, '9999.99') AS average_rent\n",
    "        FROM TopZipCodes \n",
    "        JOIN rents  ON TopZipCodes.zip_code_id = rents.zip_code_id\n",
    "        ORDER BY TopZipCodes.tree_count DESC\n",
    "        LIMIT 10;\n",
    "    \"\"\"\n",
    "    return pd.read_sql_query(query, engine)\n",
    "\n",
    "get_average_rent_with_most_trees_df = get_average_rent_with_most_trees(engine)\n",
    "\n",
    "print(get_average_rent_with_most_trees_df)"
   ]
  },
  {
   "cell_type": "markdown",
   "id": "4e154635",
   "metadata": {},
   "source": [
    "Query 4: Could there be a correlation between an area’s rent, the number of its trees, and the number of 311 complaints?\n"
   ]
  },
  {
   "cell_type": "code",
   "execution_count": null,
   "id": "172dfa4d",
   "metadata": {},
   "outputs": [],
   "source": [
    "def get_five_best_and_five_worst(engine):\n",
    "    query = \"\"\"\n",
    "    WITH RentStatistics AS (\n",
    "        SELECT\n",
    "            rents.zip_code_id,\n",
    "            TO_CHAR(AVG(rents.rent_amount), '9999.99') AS avg_rent,\n",
    "            COUNT(trees.id) AS tree_count,\n",
    "            COUNT(complaints.id) AS complaint_count\n",
    "        FROM rents \n",
    "        LEFT JOIN trees ON rents.zip_code_id = trees.zip_code_id\n",
    "        LEFT JOIN complaints  ON rents.zip_code_id = complaints.zip_code_id\n",
    "        WHERE EXTRACT(MONTH FROM complaints.date_column) = 12 AND EXTRACT(YEAR FROM complaints.date_column) = 2023\n",
    "        GROUP BY rents.zip_code_id\n",
    "    )\n",
    "    SELECT\n",
    "        zip_code_id,\n",
    "        avg_rent,\n",
    "        tree_count,\n",
    "        complaint_count\n",
    "    FROM (\n",
    "        SELECT\n",
    "            zip_code_id,\n",
    "            avg_rent,\n",
    "            tree_count,\n",
    "            complaint_count,\n",
    "            ROW_NUMBER() OVER (ORDER BY avg_rent ASC) AS low_rank,\n",
    "            ROW_NUMBER() OVER (ORDER BY avg_rent DESC) AS high_rank\n",
    "        FROM RentStatistics\n",
    "    ) ranked\n",
    "    WHERE low_rank <= 5 OR high_rank <= 5\n",
    "    ORDER BY avg_rent ASC;\n",
    "    \"\"\"\n",
    "    return pd.read_sql_query(query, engine)\n",
    "\n",
    "get_five_best_and_five_worst_df = get_five_best_and_five_worst(engine)\n",
    "\n",
    "print(get_five_best_and_five_worst_df)"
   ]
  },
  {
   "cell_type": "markdown",
   "id": "f7a181d0",
   "metadata": {},
   "source": [
    "\n",
    "Query 5: Where has the most greenery (take 2)?\n",
    "Rewrite Query 2 to use both the trees table and the zipcodes table. Join both tables where the coordinate point of the tree is inside the polygon boundary of the zipcode as defined in the zipcode table.\n",
    "The query should have a JOIN statement. The query results should match exactly the results of Query 2."
   ]
  },
  {
   "cell_type": "code",
   "execution_count": null,
   "id": "4fa9ee1d",
   "metadata": {},
   "outputs": [],
   "source": []
  },
  {
   "cell_type": "markdown",
   "id": "ca96e744",
   "metadata": {},
   "source": [
    "Query 6: What is the immediate area like?\n",
    "Using the following coordinate pair on campus, which trees are within 1⁄2 mile radius of this point?\n",
    "Latitude: 40.80737875669467, Longitude: -73.96253174434912\n",
    "The result should have 5 columns (ID, species, health, status, and coordinate location of each tree)."
   ]
  },
  {
   "cell_type": "code",
   "execution_count": null,
   "id": "630b8ba4",
   "metadata": {},
   "outputs": [],
   "source": [
    "def immediate_area(engine):\n",
    "    query = \"\"\"\n",
    "    SELECT\n",
    "        trees.id AS ID,\n",
    "        trees.specie AS species,\n",
    "        trees.health,\n",
    "        trees.status,\n",
    "        ST_AsText(trees.geometry) AS coordinate_location\n",
    "    FROM\n",
    "        trees\n",
    "    JOIN\n",
    "        zip_codes  ON trees.zip_code_id = zip_codes.id\n",
    "    WHERE\n",
    "        ST_DWithin(\n",
    "            trees.geometry,\n",
    "            ST_SetSRID(ST_MakePoint(-73.96253174434912, 40.80737875669467), 4326),\n",
    "            804.672  -- 1/2 mile in meters (1 mile = 1609.344 meters)\n",
    "        );\n",
    "\n",
    "    \"\"\"\n",
    "    return pd.read_sql_query(query, engine)\n",
    "\n",
    "immediate_area_df = immediate_area(engine)\n",
    "\n",
    "print(immediate_area_df)"
   ]
  },
  {
   "cell_type": "code",
   "execution_count": null,
   "id": "be1150cf",
   "metadata": {},
   "outputs": [],
   "source": []
  },
  {
   "cell_type": "markdown",
   "id": "447275df",
   "metadata": {},
   "source": [
    "# Visualizing Data"
   ]
  },
  {
   "cell_type": "markdown",
   "id": "ed04fdf6",
   "metadata": {},
   "source": [
    "Visualization 1"
   ]
  },
  {
   "cell_type": "code",
   "execution_count": null,
   "id": "5bf0eb97",
   "metadata": {},
   "outputs": [],
   "source": [
    "\n",
    "\n",
    "def select_complains(engine):\n",
    "    query = \"\"\"\n",
    "    SELECT *\n",
    "    FROM complaints;\n",
    "    \"\"\"\n",
    "    return pd.read_sql_query(query, engine)\n",
    "\n",
    "select_complains_df = select_complains(engine)\n",
    "print(select_complains_df)"
   ]
  },
  {
   "cell_type": "code",
   "execution_count": null,
   "id": "8e7d2115",
   "metadata": {},
   "outputs": [],
   "source": [
    "# Set the date range for the analysis (October 1st, 2022, to September 30th, 2023)\n",
    "start_date = '2022-10-01'\n",
    "end_date = '2023-09-30'\n",
    "\n",
    "select_complains_df['date_column'] = select_complains_df['date_column'].astype(str)\n",
    "\n",
    "# Filter complaints for the specified date range\n",
    "filtered_complaints = select_complains_df[\n",
    "    (select_complains_df['date_column'] >= start_date) &\n",
    "    (select_complains_df['date_column'] <= end_date)\n",
    "]\n",
    "\n",
    "# Find the top 3 complaint types\n",
    "top_complaint_types = filtered_complaints['complaint_type'].value_counts().nlargest(3).index\n",
    "\n",
    "# Filter complaints for the top 3 types\n",
    "top_complaints = filtered_complaints[filtered_complaints['complaint_type'].isin(top_complaint_types)]\n",
    "\n",
    "# Create a pivot table to count the number of complaints per day for each complaint type\n",
    "complaints_pivot = top_complaints.pivot_table(index='date_column', columns='complaint_type', aggfunc='size', fill_value=0)\n",
    "\n",
    "# Plot the data using seaborn\n",
    "plt.figure(figsize=(12, 6))\n",
    "sns.lineplot(data=complaints_pivot, palette='husl', linewidth=2)\n",
    "plt.title('Number of Complaints per Day for Top 3 Complaint Types')\n",
    "plt.xlabel('Date')\n",
    "plt.ylabel('Number of Complaints')\n",
    "plt.legend(title='Complaint Type')\n",
    "plt.show()"
   ]
  },
  {
   "cell_type": "markdown",
   "id": "6100b10b",
   "metadata": {},
   "source": [
    "Visualization 2"
   ]
  },
  {
   "cell_type": "code",
   "execution_count": null,
   "id": "fe244757",
   "metadata": {},
   "outputs": [],
   "source": [
    "# # Define the date range for the analysis (October 1st, 2018, to September 30th, 2023)\n",
    "start_date = '2018-10-01'\n",
    "end_date = '2023-09-30'\n",
    "\n",
    "\n",
    "# Construct the SQL query to select complaints data for zip code 10027 within the specified date range\n",
    "sql_query = f\"\"\"\n",
    "    SELECT complaints.complaint_type, COUNT(*) AS complaint_count\n",
    "    FROM complaints \n",
    "    JOIN zip_codes ON complaints.zip_code_id = zip_codes.id\n",
    "    WHERE zip_codes.id = 10027 AND complaints.date_column BETWEEN '{start_date}' AND '{end_date}'\n",
    "    GROUP BY complaints.complaint_type\n",
    "    ORDER BY complaint_count DESC\n",
    "    LIMIT 10;\n",
    "\"\"\"\n",
    "\n",
    "# Read data from the database into a pandas DataFrame\n",
    "complaints_by_type = pd.read_sql(sql_query, engine)\n",
    "\n",
    "# Plot the data using seaborn\n",
    "plt.figure(figsize=(12, 6))\n",
    "sns.barplot(x='complaint_count', y='complaint_type', data=complaints_by_type, palette='viridis')\n",
    "plt.title('Top 10 Complaint Types in Zip Code 10027 (Oct 2018 - Sep 2023)')\n",
    "plt.xlabel('Number of Complaints')\n",
    "plt.ylabel('Complaint Type')\n",
    "plt.show()\n"
   ]
  },
  {
   "cell_type": "markdown",
   "id": "780ec09e",
   "metadata": {},
   "source": [
    "Visualization 3"
   ]
  },
  {
   "cell_type": "code",
   "execution_count": null,
   "id": "bb569a02",
   "metadata": {},
   "outputs": [],
   "source": [
    "# Define the date range for the analysis (January 1st, 2015, to September 30th, 2023)\n",
    "start_date = '2015-01-01'\n",
    "end_date = '2023-09-30'\n",
    "\n",
    "# Construct the SQL queries to select data for rent, trees, and complaints by zip code within the specified date range\n",
    "sql_rent_query = f\"\"\"\n",
    "    SELECT zip_codes.id, AVG(rents.rent_amount) AS average_rent\n",
    "    FROM rents \n",
    "    JOIN zip_codes ON rents.zip_code_id = zip_codes.id\n",
    "    GROUP BY zip_codes.id\n",
    "\"\"\"\n",
    "\n",
    "sql_trees_query = f\"\"\"\n",
    "    SELECT zip_codes.id, COUNT(*) AS tree_count\n",
    "    FROM trees \n",
    "    JOIN zip_codes  ON trees.zip_code_id = zip_codes.id\n",
    "    WHERE trees.longitude IS NOT NULL AND trees.latitude IS NOT NULL\n",
    "    GROUP BY zip_codes.id\n",
    "\"\"\"\n",
    "\n",
    "sql_complaints_query = f\"\"\"\n",
    "    SELECT zip_codes.id, COUNT(*) AS complaint_count\n",
    "    FROM complaints \n",
    "    JOIN zip_codes  ON complaints.zip_code_id = zip_codes.id\n",
    "    WHERE complaints.date_column BETWEEN '{start_date}' AND '{end_date}'\n",
    "    GROUP BY zip_codes.id\n",
    "\"\"\"\n",
    "\n",
    "# Read data from the database into pandas DataFrames\n",
    "df_rent = pd.read_sql(sql_rent_query, engine)\n",
    "df_trees = pd.read_sql(sql_trees_query, engine)\n",
    "df_complaints = pd.read_sql(sql_complaints_query, engine)\n",
    "\n",
    "# Merge DataFrames on 'zip_code'\n",
    "df_combined = pd.merge(df_rent, df_trees, on='id', how='outer')\n",
    "df_combined = pd.merge(df_combined, df_complaints, on='id', how='outer')\n",
    "\n",
    "# Plotting\n",
    "plt.figure(figsize=(15, 8))\n",
    "\n",
    "# Subplot 1: Rent vs. Trees\n",
    "plt.subplot(2, 1, 1)\n",
    "sns.scatterplot(x='average_rent', y='tree_count', data=df_combined, hue='id', palette='viridis', legend=False)\n",
    "plt.title('Rent vs. Number of Trees by Zip Code')\n",
    "\n",
    "# Subplot 2: Rent vs. Complaints\n",
    "plt.subplot(2, 1, 2)\n",
    "sns.scatterplot(x='average_rent', y='complaint_count', data=df_combined, hue='id', palette='viridis', legend=False)\n",
    "plt.title('Rent vs. Number of Complaints by Zip Code')\n",
    "\n",
    "# Adjust layout and show the plots\n",
    "plt.tight_layout()\n",
    "plt.show()\n"
   ]
  },
  {
   "cell_type": "markdown",
   "id": "87669201",
   "metadata": {},
   "source": [
    "Visualization 4: If I can afford more in rent, will there be fewer issues & complaints?\n",
    "Create a boxplot, where the x-axis is average rent in September 2023, separated into $1000 bins (i.e. $0-1000, $1001-2000, etc), and the y-axis is the number of 311 complaints observed in each zip code between October 1, 2022 (inclusive) to September 30, 2023 (inclusive)."
   ]
  },
  {
   "cell_type": "code",
   "execution_count": null,
   "id": "cad7d7bd",
   "metadata": {},
   "outputs": [],
   "source": [
    "# Define the date range for the analysis (October 1st, 2022, to September 30th, 2023)\n",
    "start_date = '2022-10-01'\n",
    "end_date = '2023-09-30'\n",
    "\n",
    "# Construct the SQL query to select data for average rent and number of complaints by zip code within the specified date range\n",
    "sql_query = f\"\"\"\n",
    "    SELECT zip_codes.id, AVG(rents.rent_amount) AS average_rent, COUNT(complaints.id) AS complaint_count\n",
    "    FROM rents \n",
    "    JOIN zip_codes  ON rents.zip_code_id = zip_codes.id\n",
    "    LEFT JOIN complaints  ON zip_codes.id = complaints.zip_code_id AND complaints.date_column BETWEEN '{start_date}' AND '{end_date}'\n",
    "    GROUP BY zip_codes.id\n",
    "\"\"\"\n",
    "\n",
    "# Read data from the database into a pandas DataFrame\n",
    "df_combined = pd.read_sql(sql_query, engine)\n",
    "\n",
    "# Create rent bins\n",
    "rent_bins = [0, 1000, 2000, 3000, 4000, 5000, 6000, 7000, 8000, 9000, 10000]\n",
    "\n",
    "# Assign rent bins to the DataFrame\n",
    "df_combined['rent_bin'] = pd.cut(df_combined['average_rent'], bins=rent_bins, right=False)\n",
    "\n",
    "# Plotting\n",
    "plt.figure(figsize=(12, 6))\n",
    "sns.boxplot(x='rent_bin', y='complaint_count', data=df_combined, palette='viridis')\n",
    "plt.title('Boxplot: Rent vs. Number of 311 Complaints (Oct 2022 - Sep 2023)')\n",
    "plt.xlabel('Average Rent (Rent Bins)')\n",
    "plt.ylabel('Number of 311 Complaints')\n",
    "plt.xticks(rotation=45)\n",
    "plt.show()\n"
   ]
  },
  {
   "cell_type": "markdown",
   "id": "f2f4ed55",
   "metadata": {},
   "source": [
    "Visualization 5: Where were the recent 311 incidents reported from in the immediate area?\n",
    "Create a geospatial plot of the coordinates of reported 311 incidents that happened between January 1st, 2023 and September 30th, 2023 (inclusive) within a 1 kilometer radius of the same coordinate from Query 6 in Part 3."
   ]
  },
  {
   "cell_type": "code",
   "execution_count": null,
   "id": "84967568",
   "metadata": {},
   "outputs": [],
   "source": [
    "# Define the coordinate from Query 6\n",
    "center_coordinate = Point(-73.96253174434912, 40.80737875669467)\n",
    "\n",
    "# Define the date range for the analysis (January 1st, 2023, to September 30th, 2023)\n",
    "start_date = '2023-01-01'\n",
    "end_date = '2023-09-30'\n",
    "\n",
    "# Construct the SQL query to select 311 incidents data within the specified date range and around the specified coordinate\n",
    "sql_query = f\"\"\"\n",
    "    SELECT\n",
    "        complaints.id,\n",
    "        ST_AsText(trees.geometry)::geometry AS coordinate_location\n",
    "    FROM\n",
    "        complaints \n",
    "    JOIN\n",
    "        zip_codes  ON complaints.zip_code_id = zip_codes.id\n",
    "    JOIN\n",
    "        trees ON trees.zip_code_id = zip_codes.id\n",
    "    WHERE\n",
    "        complaints.date_column BETWEEN '{start_date}' AND '{end_date}'\n",
    "        AND ST_DWithin(\n",
    "            trees.geometry,\n",
    "            ST_SetSRID(ST_MakePoint(-73.96253174434912, 40.80737875669467), 4326),\n",
    "            1000  -- 1 kilometer in meters\n",
    "        )\n",
    "\"\"\"\n",
    "\n",
    "# Read data from the database into a GeoDataFrame\n",
    "gdf_complaints = gpd.read_postgis(sql_query, engine, geom_col='coordinate_location')\n",
    "\n",
    "# Plotting\n",
    "fig, ax = plt.subplots(figsize=(10, 10))\n",
    "\n",
    "# Plot the coordinate from Query 6\n",
    "ax.scatter(center_coordinate.x, center_coordinate.y, color='red', label='Query 6 Coordinate')\n",
    "\n",
    "# Plot the 311 incident coordinates\n",
    "gdf_complaints.plot(ax=ax, marker='o', color='blue', label='311 Incidents')\n",
    "\n",
    "# Set plot title and labels\n",
    "plt.title('Geospatial Plot of 311 Incidents (Jan 2023 - Sep 2023) around Query 6 Coordinate')\n",
    "plt.xlabel('Longitude')\n",
    "plt.ylabel('Latitude')\n",
    "\n",
    "# Add legend\n",
    "ax.legend()\n",
    "\n",
    "# Show the plot\n",
    "plt.show()\n"
   ]
  },
  {
   "cell_type": "markdown",
   "id": "7ea1d408",
   "metadata": {},
   "source": [
    "Visualization 6: Are areas trying to improve the amount of trees in the neighborhood?\n",
    "Create a geospatial plot of two sets of data: the coordinates of trees in NYC, and the coordinates of \"New Tree Request\" 311 complaint types that were made from October 1st, 2018 to September 30th, 2023 (inclusive)."
   ]
  },
  {
   "cell_type": "code",
   "execution_count": null,
   "id": "49153013",
   "metadata": {},
   "outputs": [],
   "source": [
    "# Construct the SQL query to select tree coordinates\n",
    "trees_query = \"\"\"\n",
    "    SELECT\n",
    "        id,\n",
    "        ST_AsText(geometry)::geometry AS geometry\n",
    "    FROM\n",
    "        trees\n",
    "\"\"\"\n",
    "\n",
    "# Construct the SQL query to select \"New Tree Request\" 311 complaint coordinates\n",
    "complaints_query = \"\"\"\n",
    "    SELECT\n",
    "        complaints.id,\n",
    "        ST_AsText(trees.geometry)::geometry AS geometry\n",
    "    FROM\n",
    "        complaints \n",
    "    JOIN\n",
    "        zip_codes  ON complaints.zip_code_id = zip_codes.id\n",
    "    JOIN\n",
    "        trees ON trees.zip_code_id = zip_codes.id\n",
    "    WHERE\n",
    "        date_column BETWEEN '2018-10-01' AND '2023-09-30'\n",
    "        AND complaint_type = 'New Tree Request'\n",
    "\"\"\"\n",
    "\n",
    "\n",
    "# Read data from the database into GeoDataFrames\n",
    "gdf_trees = gpd.read_postgis(trees_query, engine, geom_col='geometry')\n",
    "gdf_complaints = gpd.read_postgis(complaints_query, engine, geom_col='geometry')\n",
    "\n",
    "# Plotting\n",
    "fig, ax = plt.subplots(figsize=(12, 12))\n",
    "\n",
    "# Plot the coordinates of trees\n",
    "gdf_trees.plot(ax=ax, marker='o', color='green', markersize=5, label='Tree Coordinates')\n",
    "\n",
    "# Plot the coordinates of \"New Tree Request\" 311 complaints\n",
    "gdf_complaints.plot(ax=ax, marker='o', color='red', markersize=5, label='New Tree Request 311 Complaints')\n",
    "\n",
    "# Set plot title and labels\n",
    "plt.title('Geospatial Plot of Trees and New Tree Request 311 Complaints in NYC')\n",
    "plt.xlabel('Longitude')\n",
    "plt.ylabel('Latitude')\n",
    "\n",
    "# Add legend\n",
    "ax.legend()\n",
    "\n",
    "# Show the plot\n",
    "plt.show()\n"
   ]
  },
  {
   "cell_type": "code",
   "execution_count": null,
   "id": "87575244",
   "metadata": {},
   "outputs": [],
   "source": []
  },
  {
   "cell_type": "code",
   "execution_count": null,
   "id": "0307bbd1",
   "metadata": {},
   "outputs": [],
   "source": []
  },
  {
   "cell_type": "code",
   "execution_count": null,
   "id": "fd6a07f1",
   "metadata": {},
   "outputs": [],
   "source": []
  }
 ],
 "metadata": {
  "kernelspec": {
   "display_name": "Python 3 (ipykernel)",
   "language": "python",
   "name": "python3"
  },
  "language_info": {
   "codemirror_mode": {
    "name": "ipython",
    "version": 3
   },
   "file_extension": ".py",
   "mimetype": "text/x-python",
   "name": "python",
   "nbconvert_exporter": "python",
   "pygments_lexer": "ipython3",
   "version": "3.11.4"
  }
 },
 "nbformat": 4,
 "nbformat_minor": 5
}
