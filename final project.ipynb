{
 "cells": [
  {
   "cell_type": "markdown",
   "id": "67378518",
   "metadata": {},
   "source": [
    " Data Preprocessing"
   ]
  },
  {
   "cell_type": "code",
   "execution_count": 8,
   "id": "0dec52d1",
   "metadata": {},
   "outputs": [],
   "source": [
    "import requests\n",
    "import json\n",
    "import pandas as pd\n",
    "import geopandas as gpd\n",
    "import os"
   ]
  },
  {
   "cell_type": "code",
   "execution_count": 9,
   "id": "8c495a40",
   "metadata": {},
   "outputs": [
    {
     "name": "stdout",
     "output_type": "stream",
     "text": [
      "Data from https://data.cityofnewyork.us/resource/5rq2-4hqu.json written to data/2015StreetTreesCensus_TREES.csv in CSV format\n",
      "Data from https://data.cityofnewyork.us/resource/erm2-nwe9.json written to data/311_Service_Requests.csv in CSV format\n"
     ]
    }
   ],
   "source": [
    "app_token = '2bSOlTJkWZ0e43SGvaNbY1sHz'\n",
    "API_endpoint_list = [\n",
    "    \"https://data.cityofnewyork.us/resource/5rq2-4hqu.json\", \n",
    "    \"https://data.cityofnewyork.us/resource/erm2-nwe9.json\"\n",
    "]\n",
    "\n",
    "# Create a 'data' directory if it doesn't exist\n",
    "data_directory = 'data'\n",
    "os.makedirs(data_directory, exist_ok=True)\n",
    "\n",
    "# Corresponding filenames for each endpoint, with path to 'data' directory\n",
    "file_names = [os.path.join(data_directory, \"2015StreetTreesCensus_TREES.csv\"), \n",
    "              os.path.join(data_directory, \"311_Service_Requests.csv\")]\n",
    "\n",
    "headers = {\n",
    "    'X-App-Token': app_token\n",
    "}\n",
    "\n",
    "# Processing each API endpoint separately and saving as CSV in the 'data' folder\n",
    "for i, endpoint in enumerate(API_endpoint_list):\n",
    "    response = requests.get(endpoint, headers=headers)\n",
    "    if response.status_code == 200:\n",
    "        data = response.json()\n",
    "        df = pd.DataFrame(data)\n",
    "        df.to_csv(file_names[i], index=False)\n",
    "        print(f\"Data from {endpoint} written to {file_names[i]} in CSV format\")\n",
    "    else:\n",
    "        print(f\"Error: {response.status_code} from {endpoint}\")\n"
   ]
  },
  {
   "cell_type": "code",
   "execution_count": 10,
   "id": "c2241d42",
   "metadata": {},
   "outputs": [],
   "source": [
    "service_requests_path = './data/311_Service_Requests.csv'\n",
    "trees_census_path = './data/2015StreetTreesCensus_TREES.csv'\n",
    "rent_data_path = './data/zillow_rent_data.csv'\n",
    "shapefile_path = './data/nyc_zipcodes.shp'"
   ]
  },
  {
   "cell_type": "code",
   "execution_count": 11,
   "id": "e06a7432",
   "metadata": {},
   "outputs": [],
   "source": [
    "# Cleaning Shapefiles of NYC’s Zip Codes\n",
    "\n",
    "# Load the shapefile with geopandas\n",
    "gdf = gpd.read_file('./data/nyc_zipcodes.shp')\n",
    "# Assuming 'ZIPCODE' and 'geometry' are the necessary columns\n",
    "gdf = gdf[['ZIPCODE', 'geometry']]\n",
    "# Ensure the ZIPCODE column is a string for consistency\n",
    "gdf['ZIPCODE'] = gdf['ZIPCODE'].astype(str).str.zfill(5)\n",
    "# Set the CRS to a common SRID if needed (e.g., SRID 4326 for WGS84)\n",
    "gdf = gdf.to_crs(epsg=4326)\n",
    "# Save the cleaned data back to a shapefile\n",
    "gdf.to_file('./data/cleaned_nyc_zipcodes.shp')\n"
   ]
  },
  {
   "cell_type": "code",
   "execution_count": 12,
   "id": "3afcb2db",
   "metadata": {},
   "outputs": [],
   "source": [
    "#Cleaning Historical Monthly Average Rents by Zip Code from Zillow\n",
    "\n",
    "rent_data_df = pd.read_csv(rent_data_path)\n",
    "latest_rent_column = rent_data_df.columns[-1]  # Assuming the last column is the latest rent data\n",
    "rent_data_df = rent_data_df[['RegionName', latest_rent_column]]\n",
    "rent_data_df.rename(columns={'RegionName': 'zipcode', latest_rent_column: 'rent_amount'}, inplace=True)\n",
    "rent_data_df['zipcode'] = rent_data_df['zipcode'].astype(str).str.zfill(5)\n",
    "rent_data_df.to_csv('./data/cleaned_zillow_rent_data.csv', index=False)\n",
    "\n"
   ]
  },
  {
   "cell_type": "code",
   "execution_count": 13,
   "id": "bb28bad0",
   "metadata": {},
   "outputs": [],
   "source": [
    "#Cleaning Historical Data from NYC Open Data on 311 Complaints\n",
    "service_requests_df = pd.read_csv(service_requests_path)\n",
    "service_requests_df = service_requests_df[['unique_key', 'created_date', 'complaint_type', 'incident_zip']]\n",
    "service_requests_df['created_date'] = pd.to_datetime(service_requests_df['created_date'])\n",
    "service_requests_df['incident_zip'] = service_requests_df['incident_zip'].astype(str).str.split('.').str[0].str.zfill(5)\n",
    "service_requests_df.dropna(subset=['incident_zip'], inplace=True)\n",
    "service_requests_df.to_csv('./data/cleaned_311_Service_Requests.csv', index=False)"
   ]
  },
  {
   "cell_type": "code",
   "execution_count": 14,
   "id": "764e322e",
   "metadata": {},
   "outputs": [],
   "source": [
    "#Cleaning the 2015 Tree Census\n",
    "trees_census_df = pd.read_csv(trees_census_path)\n",
    "trees_census_df = trees_census_df[['tree_id', 'spc_common', 'health', 'zipcode']]\n",
    "trees_census_df['zipcode'] = trees_census_df['zipcode'].astype(str).str.zfill(5)\n",
    "trees_census_df['health'].fillna('Unknown', inplace=True)\n",
    "trees_census_df.to_csv('./data/cleaned_2015StreetTreesCensus_TREES.csv', index=False)\n",
    "\n"
   ]
  },
  {
   "cell_type": "code",
   "execution_count": null,
   "id": "205ab904",
   "metadata": {},
   "outputs": [],
   "source": []
  },
  {
   "cell_type": "markdown",
   "id": "5ae006fe",
   "metadata": {},
   "source": [
    "Storing Data"
   ]
  },
  {
   "cell_type": "code",
   "execution_count": null,
   "id": "97fd3563",
   "metadata": {},
   "outputs": [],
   "source": []
  },
  {
   "cell_type": "markdown",
   "id": "7df0f105",
   "metadata": {},
   "source": [
    "Understanding Data"
   ]
  },
  {
   "cell_type": "code",
   "execution_count": null,
   "id": "9f94e3d7",
   "metadata": {},
   "outputs": [],
   "source": []
  },
  {
   "cell_type": "markdown",
   "id": "447275df",
   "metadata": {},
   "source": [
    "Visualizing Data"
   ]
  },
  {
   "cell_type": "code",
   "execution_count": null,
   "id": "6bb16fb9",
   "metadata": {},
   "outputs": [],
   "source": []
  }
 ],
 "metadata": {
  "kernelspec": {
   "display_name": "Python 3 (ipykernel)",
   "language": "python",
   "name": "python3"
  },
  "language_info": {
   "codemirror_mode": {
    "name": "ipython",
    "version": 3
   },
   "file_extension": ".py",
   "mimetype": "text/x-python",
   "name": "python",
   "nbconvert_exporter": "python",
   "pygments_lexer": "ipython3",
   "version": "3.11.5"
  }
 },
 "nbformat": 4,
 "nbformat_minor": 5
}
