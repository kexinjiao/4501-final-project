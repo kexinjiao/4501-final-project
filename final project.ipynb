{
 "cells": [
  {
   "cell_type": "markdown",
   "id": "67378518",
   "metadata": {},
   "source": [
    " Data Preprocessing"
   ]
  },
  {
   "cell_type": "code",
   "execution_count": 1,
   "id": "0dec52d1",
   "metadata": {},
   "outputs": [],
   "source": [
    "import requests\n",
    "import json\n",
    "import pandas as pd\n",
    "import geopandas as gpd"
   ]
  },
  {
   "cell_type": "code",
   "execution_count": 2,
   "id": "8c495a40",
   "metadata": {},
   "outputs": [
    {
     "name": "stdout",
     "output_type": "stream",
     "text": [
      "Data from https://data.cityofnewyork.us/resource/5rq2-4hqu.json written to 2015StreetTreesCensus_TREES.json\n",
      "Data from https://data.cityofnewyork.us/resource/erm2-nwe9.json written to 311_Service_Requests.json\n"
     ]
    }
   ],
   "source": [
    "app_token = '2bSOlTJkWZ0e43SGvaNbY1sHz'\n",
    "API_endpoint_list = [\n",
    "    \"https://data.cityofnewyork.us/resource/5rq2-4hqu.json\", \n",
    "    \"https://data.cityofnewyork.us/resource/erm2-nwe9.json\"\n",
    "]\n",
    "\n",
    "# Corresponding filenames for each endpoint\n",
    "file_names = [\"2015StreetTreesCensus_TREES.json\", \"311_Service_Requests.json\"]\n",
    "\n",
    "headers = {\n",
    "    'X-App-Token': app_token\n",
    "}\n",
    "\n",
    "# Processing each API endpoint separately\n",
    "for i, endpoint in enumerate(API_endpoint_list):\n",
    "    response = requests.get(endpoint, headers=headers)\n",
    "    if response.status_code == 200:\n",
    "        data = response.json()\n",
    "        with open(file_names[i], 'w') as file:\n",
    "            json.dump(data, file)\n",
    "        print(f\"Data from {endpoint} written to {file_names[i]}\")\n",
    "    else:\n",
    "        print(f\"Error: {response.status_code} from {endpoint}\")\n"
   ]
  },
  {
   "cell_type": "markdown",
   "id": "5ae006fe",
   "metadata": {},
   "source": [
    "Storing Data"
   ]
  },
  {
   "cell_type": "code",
   "execution_count": null,
   "id": "97fd3563",
   "metadata": {},
   "outputs": [],
   "source": []
  },
  {
   "cell_type": "markdown",
   "id": "7df0f105",
   "metadata": {},
   "source": [
    "Understanding Data"
   ]
  },
  {
   "cell_type": "code",
   "execution_count": null,
   "id": "9f94e3d7",
   "metadata": {},
   "outputs": [],
   "source": []
  },
  {
   "cell_type": "markdown",
   "id": "447275df",
   "metadata": {},
   "source": [
    "Visualizing Data"
   ]
  },
  {
   "cell_type": "code",
   "execution_count": null,
   "id": "6bb16fb9",
   "metadata": {},
   "outputs": [],
   "source": []
  }
 ],
 "metadata": {
  "kernelspec": {
   "display_name": "Python 3 (ipykernel)",
   "language": "python",
   "name": "python3"
  },
  "language_info": {
   "codemirror_mode": {
    "name": "ipython",
    "version": 3
   },
   "file_extension": ".py",
   "mimetype": "text/x-python",
   "name": "python",
   "nbconvert_exporter": "python",
   "pygments_lexer": "ipython3",
   "version": "3.11.4"
  }
 },
 "nbformat": 4,
 "nbformat_minor": 5
}
